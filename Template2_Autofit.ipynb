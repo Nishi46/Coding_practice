{
 "cells": [
  {
   "cell_type": "markdown",
   "metadata": {},
   "source": [
    "## Template 2: Autofit\n",
    "\n",
    "Developed by Rebeckah Fussell for Cornell Physics Labs.\n",
    "\n",
    "\n"
   ]
  },
  {
   "cell_type": "markdown",
   "metadata": {},
   "source": [
    "This is a template you can use to analyze your lab data using the autoFit function introduced in the Fitting II homework. \n",
    "\n",
    "autoFit is a function that attempts to fit a linear model to a two-dimensional dataset (x and y) using a chi-squared fitting that is weighted by the uncertainty in y. The results of autoFit are only applicable for linear data. \n",
    "\n",
    "Make sure that \"utilities.ipynb\" is in the same folder as this file, then run the lines below to gain access to the autoFit function and any other necessary packages."
   ]
  },
  {
   "cell_type": "code",
   "execution_count": null,
   "metadata": {},
   "outputs": [],
   "source": [
    "%run ./utilities.ipynb"
   ]
  },
  {
   "cell_type": "markdown",
   "metadata": {},
   "source": [
    "Running help(autoFit) will show you information about how to use the autoFit function."
   ]
  },
  {
   "cell_type": "code",
   "execution_count": null,
   "metadata": {},
   "outputs": [],
   "source": [
    "help(autoFit)"
   ]
  },
  {
   "cell_type": "markdown",
   "metadata": {},
   "source": [
    "You have a couple options for entering your data with regard to uncertainty\n",
    "\n",
    "1. Collect multiple trials for each datapoint and have the autoFit calculate statistical uncertainties.\n",
    "2. Manually enter the uncertainty associated with each datapoint.\n",
    "\n",
    "Select one of the options above based on your experimental design. Then go to the corresponding section below.\n",
    "\n",
    "Note that entering your data in the form of x and y values without uncertainties or multiple trials that can be used to calculate uncertainties is not an option. This is because the calculation of weighted chi-squared does not make sense if you do not have some information about the uncertainty in your data."
   ]
  },
  {
   "cell_type": "markdown",
   "metadata": {},
   "source": [
    "### Option 1\n",
    "\n",
    "\n",
    "You may have an experiment where it does not make sense to take multiple trials. For example, if your largest source of uncertainty is instrumental (e.g. measuring extensions with a ruler), there is no distribution in your measurements so it does not make sense to calculate statistics on multiple trials. \n",
    "\n",
    "Say you selected 6 different x-values and measured a y-value at each. You would also need to measure a dy-value at each of the 6 measurements, corresponding to the uncertainty in the y-value. Your dy-values should have the same units as your y_values.\n",
    "\n",
    "Enter your x_values, y_values, and dy_values below. You probably took a different number of datapoints than 6, so change the length of the array below accordingly. Make sure that all three arrays have the same length."
   ]
  },
  {
   "cell_type": "code",
   "execution_count": null,
   "metadata": {},
   "outputs": [],
   "source": [
    "x_values = np.array([...,...,...,...,...,...])\n",
    "y_values = np.array([...,...,...,...,...,...])\n",
    "dy_values = np.array([...,...,...,...,...,...])"
   ]
  },
  {
   "cell_type": "markdown",
   "metadata": {},
   "source": [
    "Now that we have our data, write a function call to the fitting function. \n",
    "\n",
    "You will need to edit the title, xaxis, and yaxis labels. Do this by changing the text inside each set of quotation marks."
   ]
  },
  {
   "cell_type": "code",
   "execution_count": null,
   "metadata": {},
   "outputs": [],
   "source": [
    "#if uncertainties are being entered manually\n",
    "manualFitWithSliders(x_values, y_values, dy=dy_values, title=\"Use title= in your call\", xaxis=\"Use xaxis= in your call\", yaxis=\"Use yaxis= in your call\")"
   ]
  },
  {
   "cell_type": "markdown",
   "metadata": {},
   "source": [
    "### Option 2\n",
    "\n",
    "Say you collected 5 trials of some y-value at 6 different x-values. First you will want to store the 6 x-values in one array, as below. Type the data from your experiment into this array. You probably took a different number of x-values, so change the length of the array below accordingly. "
   ]
  },
  {
   "cell_type": "code",
   "execution_count": null,
   "metadata": {},
   "outputs": [],
   "source": [
    "x_values = np.array([...,...,...,...,...,...])"
   ]
  },
  {
   "cell_type": "markdown",
   "metadata": {},
   "source": [
    "Next, you will want to store all your y-values. Following our example of 5 trials of 6 datasets, there are two ways you can do this. You can create separate 5-element arrays for all 6 y-values (possibly called y1_values, y2_values, y3_values,..), calculate the means and uncertainties of each, and store these means and uncertainties in new 6-element arrays (possibly called y_values and dy_values). \n",
    "\n",
    "A quicker way is to give all your data in one 2-dimensional y_value array, and let the fitting function calculate means and uncertainties for you. This template shows you how to do that. Row 1 should hold the 5 y-values corresponding to the first x_value in our array above, Row 2 should correspond to the second x-value, and so on (6 rows total in our example). The columns should correspond to the number of trials. \n",
    "\n",
    "A 2-dimensional array can be defined as below. Notice that there are 5 columns and 6 rows. Notice that each row has square brackets [ ] around it, each row is separated by a single comma, and the data is bookended by an additional set of square brackets (in addition to the parentheses in the numpy.array() function call that bookend outside the data). \n",
    "\n",
    "Once you understand the structure of this 2-dimensional array definition, type in your own data. You will probably need to change the number of rows and columns in the definition to suit your own lab data. When you are done, check that the number of rows in y_values is equal to the number of elements in x_values."
   ]
  },
  {
   "cell_type": "code",
   "execution_count": null,
   "metadata": {},
   "outputs": [],
   "source": [
    "y_values = np.array([[...,...,...,...,...],\n",
    "                     [...,...,...,...,...],\n",
    "                     [...,...,...,...,...],\n",
    "                     [...,...,...,...,...],\n",
    "                     [...,...,...,...,...],\n",
    "                     [...,...,...,...,...]])"
   ]
  },
  {
   "cell_type": "markdown",
   "metadata": {},
   "source": [
    "Now that we have our data, write a function call to the fitting function. \n",
    "\n",
    "You will need to edit the title, xaxis, and yaxis labels. Do this by changing the text inside each set of quotation marks."
   ]
  },
  {
   "cell_type": "code",
   "execution_count": null,
   "metadata": {},
   "outputs": [],
   "source": [
    "#if uncertainties are being calculated automatically\n",
    "autoFit(x_values, y_values, dy=[], title=\"Use title= in your call\", xaxis=\"Use xaxis= in your call\", yaxis=\"Use yaxis= in your call\")\n"
   ]
  },
  {
   "cell_type": "markdown",
   "metadata": {},
   "source": [
    "### Nonlinear Data\n",
    "\n",
    "You may find while plotting your data that it is not linear. autoFit is only built to accommodate linear data, and it is not appropriate to report data with a linear fit if the data is clearly nonlinear. \n",
    "\n",
    "If you find yourself in this situation, use the code snippet below to plot your data with uncertainties but without a linear fit. "
   ]
  },
  {
   "cell_type": "code",
   "execution_count": null,
   "metadata": {},
   "outputs": [],
   "source": [
    "#You can use data you entered earlier in this template, or you can uncomment the lines below to enter new data\n",
    "import numpy as np\n",
    "import matplotlib.pyplot as plt\n",
    "\n",
    "#x_values = np.array([...,...,...,...,...,...])\n",
    "#y_values = np.array([...,...,...,...,...,...])\n",
    "#dy_values = np.array([...,...,...,...,...,...])\n"
   ]
  },
  {
   "cell_type": "code",
   "execution_count": null,
   "metadata": {},
   "outputs": [],
   "source": [
    "def poly(x, args):\n",
    "    '''\n",
    "    returns the value of the polynomial sum (x**i*args[i])\n",
    "    '''\n",
    "    total=x**0*args[0]\n",
    "    for i in range(1,len(args)):\n",
    "        total+=x**i*args[i]\n",
    "    return total\n",
    "\n",
    "def plotData(x_values, y_values, dy=dy_values, title=\"Use title= in your call\", xaxis=\"Use xaxis= in your call\", yaxis=\"Use yaxis= in your call\"):\n",
    "    plt.figure()\n",
    "    plt.errorbar(x_values, y_values, dy_values, fmt='.k')\n",
    "    plt.title(title)\n",
    "    plt.xlabel(xaxis)\n",
    "    plt.ylabel(yaxis)\n",
    "    plt.show()\n",
    "    "
   ]
  },
  {
   "cell_type": "code",
   "execution_count": null,
   "metadata": {},
   "outputs": [],
   "source": [
    "plotData(x_values, y_values, dy=dy_values, title=\"Use title= in your call\", xaxis=\"Use xaxis= in your call\", yaxis=\"Use yaxis= in your call\")"
   ]
  }
 ],
 "metadata": {
  "kernelspec": {
   "display_name": "Python 3",
   "language": "python",
   "name": "python3"
  },
  "language_info": {
   "codemirror_mode": {
    "name": "ipython",
    "version": 3
   },
   "file_extension": ".py",
   "mimetype": "text/x-python",
   "name": "python",
   "nbconvert_exporter": "python",
   "pygments_lexer": "ipython3",
   "version": "3.8.8"
  }
 },
 "nbformat": 4,
 "nbformat_minor": 2
}
