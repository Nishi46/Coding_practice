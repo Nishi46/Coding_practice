{
 "cells": [
  {
   "cell_type": "markdown",
   "metadata": {},
   "source": [
    "Pascal's Triangle"
   ]
  },
  {
   "cell_type": "code",
   "execution_count": 11,
   "metadata": {},
   "outputs": [
    {
     "name": "stdout",
     "output_type": "stream",
     "text": [
      "1   \n",
      "1  1   \n",
      "1  2  1   \n",
      "1  3  3  1   \n",
      "1  4  6  4  1   \n",
      "1  5  10  10  5  1   \n",
      "1  6  15  20  15  6  1   \n",
      "1  7  21  35  35  21  7  1   \n"
     ]
    }
   ],
   "source": [
    "n = 8\n",
    "for line in range(1, n + 1):\n",
    "        C = 1; \n",
    "        for i in range(1, line + 1):\n",
    "            print(C, end = \"  \");\n",
    "            C = int(C * (line - i) / i);\n",
    "        print(\" \");"
   ]
  },
  {
   "cell_type": "markdown",
   "metadata": {},
   "source": [
    "estimating square roots - Bakhshali method"
   ]
  },
  {
   "cell_type": "code",
   "execution_count": 13,
   "metadata": {},
   "outputs": [
    {
     "name": "stdout",
     "output_type": "stream",
     "text": [
      "Square root of  9.2345 = 3.03883\n"
     ]
    }
   ],
   "source": [
    "def sqroot(s):\n",
    "    pSq = 0;\n",
    "    N = 0;\n",
    "    for i in range(int(s), 0, -1):\n",
    "        for j in range(1, i):\n",
    "            if (j * j == i):\n",
    "                pSq = i;\n",
    "                N = j;\n",
    "                break;\n",
    "     \n",
    "        if (pSq > 0):\n",
    "            break;\n",
    " \n",
    "    d = s - pSq;     \n",
    "    P = d / (2.0 * N);\n",
    "    A = N + P; \n",
    "    sqrt_of_s = A - ((P * P) / (2.0 * A));\n",
    "    return sqrt_of_s;\n",
    "\n",
    "num = 9.2345;\n",
    "sqroot_of_num = sqroot(num);\n",
    "print(\"Square root of \", num, \"=\",\n",
    "      round((sqroot_of_num * 100000.0) / 100000.0, 5));"
   ]
  },
  {
   "cell_type": "code",
   "execution_count": null,
   "metadata": {},
   "outputs": [],
   "source": []
  }
 ],
 "metadata": {
  "kernelspec": {
   "display_name": "Python 3",
   "language": "python",
   "name": "python3"
  },
  "language_info": {
   "codemirror_mode": {
    "name": "ipython",
    "version": 3
   },
   "file_extension": ".py",
   "mimetype": "text/x-python",
   "name": "python",
   "nbconvert_exporter": "python",
   "pygments_lexer": "ipython3",
   "version": "3.7.3"
  }
 },
 "nbformat": 4,
 "nbformat_minor": 2
}
