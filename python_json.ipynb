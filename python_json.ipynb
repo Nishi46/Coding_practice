{
 "cells": [
  {
   "cell_type": "code",
   "execution_count": 82,
   "metadata": {},
   "outputs": [],
   "source": [
    "import re"
   ]
  },
  {
   "cell_type": "code",
   "execution_count": 145,
   "metadata": {},
   "outputs": [],
   "source": [
    "fp = open('/Users/Nishi/Downloads/configuration.json', 'r')\n",
    "file1 = open('/Users/Nishi/Downloads/filtered.txt', 'w')\n",
    "\n"
   ]
  },
  {
   "cell_type": "code",
   "execution_count": 167,
   "metadata": {},
   "outputs": [],
   "source": [
    "for line in fp:\n",
    "    if '\"category\" : ' in line:\n",
    "            cat = line.partition('\"category\" : ')\n",
    "            file1.writelines(cat[2])\n",
    "            print(cat[2])\n",
    "    if ' : {'  in line:\n",
    "            property_name = line.partition(' : {')\n",
    "            file1.writelines(property_name[0])\n",
    "            file1.writelines(\" , \")\n",
    "            print(property_name[0])"
   ]
  },
  {
   "cell_type": "code",
   "execution_count": 169,
   "metadata": {},
   "outputs": [
    {
     "name": "stdout",
     "output_type": "stream",
     "text": [
      "[['\"ldc.job.locking.enabled\"', ',', '\"DISCOVERY\",'], ['\"ldc.job.locking.zk.connection.string\"', ',', '\"DISCOVERY\",'], ['\"ldc.discovery.virtual_datasets.enabled\"', ',', '\"DISCOVERY\",'], ['\"ldc.discovery.tags.null_values\"', ',', '\"DISCOVERY\",'], ['\"ldc.discovery.tag.name_matching_separators\"', ',', '\"DISCOVERY\",'], ['\"ldc.discovery.tag.min.alpha_pattern_lenght\"', ',', '\"DISCOVERY\",'], ['\"ldc.discovery.tag.min.numeric_pattern_lenght\"', ',', '\"DISCOVERY\",'], ['\"ldc.discovery.tag.min_cardinality.partial_match\"', ',', '\"DISCOVERY\",'], ['\"ldc.discovery.tag.min_cardinality.tokens_overlap\"', ',', '\"DISCOVERY\",'], ['\"ldc.discovery.tag.tolerance.normal\"', ',', '\"DISCOVERY\",'], ['\"ldc.discovery.tag.tolerance.high\"', ',', '\"DISCOVERY\",'], ['\"ldc.discovery.tag.tolerance.low\"', ',', '\"DISCOVERY\",'], ['\"ldc.discovery.tolerance.double\"', ',', '\"DISCOVERY\",'], ['\"ldc.discovery.tags.tolerance.name_match\"', ',', '\"DISCOVERY\",'], ['\"ldc.discovery.tags.tolerance.name_match_pre_defined\"', ',', '\"DISCOVERY\",'], ['\"ldc.discovery.tags.name_match_reg_ex\"', ',', '\"DISCOVERY\",'], ['\"ldc.discovery.tag.min.pattern_overlap\"', ',', '\"DISCOVERY\",'], ['\"ldc.discovery.tag.tolerance.std_deviation\"', ',', '\"DISCOVERY\",'], ['\"ldc.discovery.tag.quantiles.count\"', ',', '\"DISCOVERY\",'], ['\"ldc.discovery.tag.quantiles.compression\"', ',', '\"DISCOVERY\",'], ['\"ldc.discovery.tag.learning.speed.metadata\"', ',', '\"DISCOVERY\",'], ['\"ldc.discovery.tag.learning.speed.data\"', ',', '\"DISCOVERY\",'], ['\"ldc.discovery.tag.quantiles.tolerance\"', ',', '\"DISCOVERY\",'], ['\"ldc.discovery.tag.rejection.low_cardinalty\"', ',', '\"DISCOVERY\",'], ['\"ldc.discovery.lineage.batch_window_hours\"', ',', '\"DISCOVERY\",'], ['\"ldc.discovery.lineage.cardinality_difference\"', ',', '\"DISCOVERY\",'], ['\"ldc.discovery.lineage.diff_same_directory_sec\"', ',', '\"DISCOVERY\",'], ['\"ldc.discovery.lineage.field_name_match\"', ',', '\"DISCOVERY\",'], ['\"ldc.discovery.lineage.min_lineage_field_count\"', ',', '\"DISCOVERY\",'], ['\"ldc.discovery.lineage.min_lineage_percent_field_count\"', ',', '\"DISCOVERY\",'], ['\"ldc.discovery.lineage.min_max_cardinality\"', ',', '\"DISCOVERY\",'], ['\"ldc.discovery.lineage.overlap\"', ',', '\"DISCOVERY\",'], ['\"ldc.discovery.lineage.selectivity_difference\"', ',', '\"DISCOVERY\",'], ['\"ldc.discovery.lineage.use_access_time_filter\"', ',', '\"DISCOVERY\",'], ['\"ldc.discovery.lineage.same_schema\"', ',', '\"DISCOVERY\",'], ['\"ldc.discovery.lineage.same_schema.non_matching\"', ',', '\"DISCOVERY\",'], ['\"ldc.discovery.lineage.same_schema.min2check\"', ',', '\"DISCOVERY\",'], ['\"ldc.disocvery.framework.left.batchsize\"', ',', '\"DISCOVERY\",'], ['\"ldc.disocvery.framework.right.batchsize\"', ',', '\"DISCOVERY\",'], ['\"ldc.discovery.profile.tipping_point\"', ',', '\"DISCOVERY_PROFILER\",'], ['\"ldc.profile.locales.calendar\"', ',', '\"DISCOVERY_PROFILER\",'], ['\"ldc.profile.datetime.formats\"', ',', '\"DISCOVERY_PROFILER\",'], ['\"ldc.profile.locales.numeric\"', ',', '\"DISCOVERY_PROFILER\",'], ['\"ldc.discovery.profile.token.max2accumulate\"', ',', '\"DISCOVERY_PROFILER\",'], ['\"ldc.discovery.profile.multi_token_validity\"', ',', '\"DISCOVERY_PROFILER\",'], ['\"ldc.discovery.profile.length.capacity\"', ',', '\"DISCOVERY_PROFILER\",'], ['\"ldc.discovery.profile.pattern.capacity\"', ',', '\"DISCOVERY_PROFILER\",'], ['\"ldc.discovery.profile.token.capacity\"', ',', '\"DISCOVERY_PROFILER\",'], ['\"ldc.discovery.profile.overflow.factor\"', ',', '\"DISCOVERY_PROFILER\",'], ['\"ldc.discovery.profile.cardinality.low\"', ',', '\"DISCOVERY_PROFILER\",'], ['\"ldc.discovery.profile.bloomfilter.false_positive_treshold\"', ',', '\"DISCOVERY_PROFILER\",'], ['\"ldc.discovery.profile.bloomfilter.number_of_elements\"', ',', '\"DISCOVERY_PROFILER\",'], ['\"ldc.profile.cardinality_precision\"', ',', '\"DISCOVERY_PROFILER\",'], ['\"ldc.discovery.profile.cardinality_sparse_precision\"', ',', '\"DISCOVERY_PROFILER\",'], ['\"ldc.discovery.profile.double_rounding\"', ',', '\"DISCOVERY_PROFILER\",'], ['\"ldc.discovery.classification.accuracy\"', ',', '\"DISCOVERY_PROFILER\",'], ['\"ldc.discovery.classification.anoymous_string_max_char\"', ',', '\"DISCOVERY_PROFILER\",'], ['\"ldc.discovery.classification.anonymous_number_max_digit\"', ',', '\"DISCOVERY_PROFILER\",'], ['\"ldc.discovery.profile.cardinality.max\"', ',', '\"DISCOVERY_PROFILER\",'], ['\"ldc.discovery.profile.topk.max\"', ',', '\"DISCOVERY_PROFILER\",'], ['\"ldc.discovery.datetime.maxlength\"', ',', '\"DISCOVERY_PROFILER\",'], ['\"ldc.temproot\"', ',', '\"MISC\",'], ['\"ldc.deletetempfiles\"', ',', '\"MISC\",'], ['\"ldc.metadata.hdfs.large_properties.uri\"', ',', '\"MISC\",'], ['\"ldc.metadata.hdfs.large_properties.path\"', ',', '\"MISC\",'], ['\"ldc.profile.resource.numdateformats\"', ',', '\"MISC\",'], ['\"ldc.metadata.servicetype\"', ',', '\"MetadataService\",'], ['\"ldc.metadata.servicemode\"', ',', '\"MetadataService\",'], ['\"ldc.metadata.solr.usezk\"', ',', '\"MetadataService\",'], ['\"ldc.metadata.solr.zk.connection.string\"', ',', '\"MetadataService\",'], ['\"ldc.metadata.solrserver.url\"', ',', '\"MetadataService\",'], ['\"ldc.metadata.solrserver.collection\"', ',', '\"MetadataService\",'], ['\"ldc.metadata.referencechecks.enabled\"', ',', '\"MetadataService\",'], ['\"ldc.metadata.resourcepartitionsplit.enabled\"', ',', '\"MetadataService\",'], ['\"ldc.metadata.resourceuniquechecks.enabled\"', ',', '\"MetadataService\",'], ['\"ldc.metadata.searchableproperties.for.data_source\"', ',', '\"MetadataService\",'], ['\"ldc.metadata.searchableproperties.for.data_resource\"', ',', '\"MetadataService\",'], ['\"ldc.metadata.searchableproperties.for.resource_field\"', ',', '\"MetadataService\",'], ['\"ldc.metadata.searchableproperties.for.audit_event\"', ',', '\"MetadataService\",'], ['\"ldc.metadata.searchableproperties.for.tag_domain\"', ',', '\"MetadataService\",'], ['\"ldc.metadata.searchableproperties.for.tag\"', ',', '\"MetadataService\",'], ['\"ldc.metadata.searchableproperties.for.operation\"', ',', '\"MetadataService\",'], ['\"ldc.metadata.searchableproperties.for.operation_execution\"', ',', '\"MetadataService\",'], ['\"ldc.metadata.searchableproperties.for.external_source\"', ',', '\"MetadataService\",'], ['\"ldc.metadata.resourcenormalization.enabled\"', ',', '\"MetadataService\",'], ['\"ldc.metadata.commit_with_flush\"', ',', '\"MetadataService\",'], ['\"ldc.metadata.commit_with_searcher\"', ',', '\"MetadataService\",'], ['\"ldc.metadata.commit_with_soft_commit\"', ',', '\"MetadataService\",'], ['\"ldc.metadata.close_wait_time\"', ',', '\"MetadataService\",'], ['\"ldc.metadata.solrupdate.batchsize\"', ',', '\"MetadataService\",'], ['\"ldc.metadata.solrquery.batchsize\"', ',', '\"MetadataService\",'], ['\"ldc.metadata.solrsearch.fetchsize\"', ',', '\"MetadataService\",'], ['\"ldc.metadata.solrquery.debug\"', ',', '\"MetadataService\",'], ['\"ldc.metadata.solrquery.usepost\"', ',', '\"MetadataService\",'], ['\"ldc.metadata.query.max_doc_count\"', ',', '\"MetadataService\",'], ['\"ldc.metadata.query.max_tag_count\"', ',', '\"MetadataService\",'], ['\"ldc.metadata.query.max_tag_count_exceeded_strategy\"', ',', '\"MetadataService\",'], ['\"ldc.metadata.search.resources.maxresultsize\"', ',', '\"MetadataService\",'], ['\"ldc.metadata.search.resourcefields.maxresultsize\"', ',', '\"MetadataService\",'], ['\"ldc.metadata.search.operations.maxresultsize\"', ',', '\"MetadataService\",'], ['\"ldc.metadata.search.activities.maxresultsize\"', ',', '\"MetadataService\",'], ['\"ldc.metadata.search.permissionchecks.enabled\"', ',', '\"MetadataService\",'], ['\"ldc.metadata.search.maxkeyfiltercount\"', ',', '\"MetadataService\",'], ['\"ldc.metadata.query.max_facet_category_count\"', ',', '\"MetadataService\",'], ['\"ldc.metadata.luceneindex.MaxThreadStates\"', ',', '\"MetadataService\",'], ['\"ldc.metadata.luceneindex.RAMBufferSizeMB\"', ',', '\"MetadataService\",'], ['\"ldc.metadata.luceneindex.WriteLockoutTimeInMS\"', ',', '\"MetadataService\",'], ['\"ldc.metadata.solr.kerberosEnabled\"', ',', '\"MetadataService\",'], ['\"ldc.metadata.hdfs.MetadataServiceHdfsPath\"', ',', '\"MetadataService\",'], ['\"ldc.metadata.hdfspartitioned.IsLocalFS\"', ',', '\"MetadataService\",'], ['\"ldc.metadata.lpupdate.batchsize\"', ',', '\"MetadataService\",']]\n"
     ]
    }
   ],
   "source": [
    "\n",
    "file3 = open('/Users/Nishi/Downloads/revised.txt','w')\n",
    "with open('/Users/Nishi/Downloads/filtered.txt') as f:\n",
    "    lines = [line.split() for line in f]\n",
    "    lines.sort(key=lambda s: s[2:3])\n",
    "    print(lines)\n",
    "    for item in lines:\n",
    "                    file3.write(\"%s\\n\" % item)  "
   ]
  },
  {
   "cell_type": "code",
   "execution_count": 171,
   "metadata": {},
   "outputs": [
    {
     "name": "stdout",
     "output_type": "stream",
     "text": [
      "[38, 60, 65]\n",
      "[['\"ldc.job.locking.enabled\"', ',', '\"DISCOVERY\",'], ['\"ldc.job.locking.zk.connection.string\"', ',', '\"DISCOVERY\",'], ['\"ldc.discovery.virtual_datasets.enabled\"', ',', '\"DISCOVERY\",'], ['\"ldc.discovery.tags.null_values\"', ',', '\"DISCOVERY\",'], ['\"ldc.discovery.tag.name_matching_separators\"', ',', '\"DISCOVERY\",'], ['\"ldc.discovery.tag.min.alpha_pattern_lenght\"', ',', '\"DISCOVERY\",'], ['\"ldc.discovery.tag.min.numeric_pattern_lenght\"', ',', '\"DISCOVERY\",'], ['\"ldc.discovery.tag.min_cardinality.partial_match\"', ',', '\"DISCOVERY\",'], ['\"ldc.discovery.tag.min_cardinality.tokens_overlap\"', ',', '\"DISCOVERY\",'], ['\"ldc.discovery.tag.tolerance.normal\"', ',', '\"DISCOVERY\",'], ['\"ldc.discovery.tag.tolerance.high\"', ',', '\"DISCOVERY\",'], ['\"ldc.discovery.tag.tolerance.low\"', ',', '\"DISCOVERY\",'], ['\"ldc.discovery.tolerance.double\"', ',', '\"DISCOVERY\",'], ['\"ldc.discovery.tags.tolerance.name_match\"', ',', '\"DISCOVERY\",'], ['\"ldc.discovery.tags.tolerance.name_match_pre_defined\"', ',', '\"DISCOVERY\",'], ['\"ldc.discovery.tags.name_match_reg_ex\"', ',', '\"DISCOVERY\",'], ['\"ldc.discovery.tag.min.pattern_overlap\"', ',', '\"DISCOVERY\",'], ['\"ldc.discovery.tag.tolerance.std_deviation\"', ',', '\"DISCOVERY\",'], ['\"ldc.discovery.tag.quantiles.count\"', ',', '\"DISCOVERY\",'], ['\"ldc.discovery.tag.quantiles.compression\"', ',', '\"DISCOVERY\",'], ['\"ldc.discovery.tag.learning.speed.metadata\"', ',', '\"DISCOVERY\",'], ['\"ldc.discovery.tag.learning.speed.data\"', ',', '\"DISCOVERY\",'], ['\"ldc.discovery.tag.quantiles.tolerance\"', ',', '\"DISCOVERY\",'], ['\"ldc.discovery.tag.rejection.low_cardinalty\"', ',', '\"DISCOVERY\",'], ['\"ldc.discovery.lineage.batch_window_hours\"', ',', '\"DISCOVERY\",'], ['\"ldc.discovery.lineage.cardinality_difference\"', ',', '\"DISCOVERY\",'], ['\"ldc.discovery.lineage.diff_same_directory_sec\"', ',', '\"DISCOVERY\",'], ['\"ldc.discovery.lineage.field_name_match\"', ',', '\"DISCOVERY\",'], ['\"ldc.discovery.lineage.min_lineage_field_count\"', ',', '\"DISCOVERY\",'], ['\"ldc.discovery.lineage.min_lineage_percent_field_count\"', ',', '\"DISCOVERY\",'], ['\"ldc.discovery.lineage.min_max_cardinality\"', ',', '\"DISCOVERY\",'], ['\"ldc.discovery.lineage.overlap\"', ',', '\"DISCOVERY\",'], ['\"ldc.discovery.lineage.selectivity_difference\"', ',', '\"DISCOVERY\",'], ['\"ldc.discovery.lineage.use_access_time_filter\"', ',', '\"DISCOVERY\",'], ['\"ldc.discovery.lineage.same_schema\"', ',', '\"DISCOVERY\",'], ['\"ldc.discovery.lineage.same_schema.non_matching\"', ',', '\"DISCOVERY\",'], ['\"ldc.discovery.lineage.same_schema.min2check\"', ',', '\"DISCOVERY\",'], ['\"ldc.disocvery.framework.left.batchsize\"', ',', '\"DISCOVERY\",'], ['\"ldc.disocvery.framework.right.batchsize\"', ',', '\"DISCOVERY\",'], '############## COUNT: 39', '############## COUNT: 39', ['\"ldc.discovery.profile.tipping_point\"', ',', '\"DISCOVERY_PROFILER\",'], ['\"ldc.profile.locales.calendar\"', ',', '\"DISCOVERY_PROFILER\",'], ['\"ldc.profile.datetime.formats\"', ',', '\"DISCOVERY_PROFILER\",'], ['\"ldc.profile.locales.numeric\"', ',', '\"DISCOVERY_PROFILER\",'], ['\"ldc.discovery.profile.token.max2accumulate\"', ',', '\"DISCOVERY_PROFILER\",'], ['\"ldc.discovery.profile.multi_token_validity\"', ',', '\"DISCOVERY_PROFILER\",'], ['\"ldc.discovery.profile.length.capacity\"', ',', '\"DISCOVERY_PROFILER\",'], ['\"ldc.discovery.profile.pattern.capacity\"', ',', '\"DISCOVERY_PROFILER\",'], ['\"ldc.discovery.profile.token.capacity\"', ',', '\"DISCOVERY_PROFILER\",'], ['\"ldc.discovery.profile.overflow.factor\"', ',', '\"DISCOVERY_PROFILER\",'], ['\"ldc.discovery.profile.cardinality.low\"', ',', '\"DISCOVERY_PROFILER\",'], ['\"ldc.discovery.profile.bloomfilter.false_positive_treshold\"', ',', '\"DISCOVERY_PROFILER\",'], ['\"ldc.discovery.profile.bloomfilter.number_of_elements\"', ',', '\"DISCOVERY_PROFILER\",'], ['\"ldc.profile.cardinality_precision\"', ',', '\"DISCOVERY_PROFILER\",'], ['\"ldc.discovery.profile.cardinality_sparse_precision\"', ',', '\"DISCOVERY_PROFILER\",'], ['\"ldc.discovery.profile.double_rounding\"', ',', '\"DISCOVERY_PROFILER\",'], ['\"ldc.discovery.classification.accuracy\"', ',', '\"DISCOVERY_PROFILER\",'], ['\"ldc.discovery.classification.anoymous_string_max_char\"', ',', '\"DISCOVERY_PROFILER\",'], ['\"ldc.discovery.classification.anonymous_number_max_digit\"', ',', '\"DISCOVERY_PROFILER\",'], ['\"ldc.discovery.profile.cardinality.max\"', ',', '\"DISCOVERY_PROFILER\",'], ['\"ldc.discovery.profile.topk.max\"', ',', '\"DISCOVERY_PROFILER\",'], '############## COUNT: 22', ['\"ldc.discovery.datetime.maxlength\"', ',', '\"DISCOVERY_PROFILER\",'], '############## COUNT: 22', ['\"ldc.temproot\"', ',', '\"MISC\",'], ['\"ldc.deletetempfiles\"', ',', '\"MISC\",'], ['\"ldc.metadata.hdfs.large_properties.uri\"', ',', '\"MISC\",'], '############## COUNT: 5', ['\"ldc.metadata.hdfs.large_properties.path\"', ',', '\"MISC\",'], ['\"ldc.profile.resource.numdateformats\"', ',', '\"MISC\",'], '############## COUNT: 5', ['\"ldc.metadata.servicetype\"', ',', '\"MetadataService\",'], ['\"ldc.metadata.servicemode\"', ',', '\"MetadataService\",'], ['\"ldc.metadata.solr.usezk\"', ',', '\"MetadataService\",'], ['\"ldc.metadata.solr.zk.connection.string\"', ',', '\"MetadataService\",'], ['\"ldc.metadata.solrserver.url\"', ',', '\"MetadataService\",'], ['\"ldc.metadata.solrserver.collection\"', ',', '\"MetadataService\",'], ['\"ldc.metadata.referencechecks.enabled\"', ',', '\"MetadataService\",'], ['\"ldc.metadata.resourcepartitionsplit.enabled\"', ',', '\"MetadataService\",'], ['\"ldc.metadata.resourceuniquechecks.enabled\"', ',', '\"MetadataService\",'], ['\"ldc.metadata.searchableproperties.for.data_source\"', ',', '\"MetadataService\",'], ['\"ldc.metadata.searchableproperties.for.data_resource\"', ',', '\"MetadataService\",'], ['\"ldc.metadata.searchableproperties.for.resource_field\"', ',', '\"MetadataService\",'], ['\"ldc.metadata.searchableproperties.for.audit_event\"', ',', '\"MetadataService\",'], ['\"ldc.metadata.searchableproperties.for.tag_domain\"', ',', '\"MetadataService\",'], ['\"ldc.metadata.searchableproperties.for.tag\"', ',', '\"MetadataService\",'], ['\"ldc.metadata.searchableproperties.for.operation\"', ',', '\"MetadataService\",'], ['\"ldc.metadata.searchableproperties.for.operation_execution\"', ',', '\"MetadataService\",'], ['\"ldc.metadata.searchableproperties.for.external_source\"', ',', '\"MetadataService\",'], ['\"ldc.metadata.resourcenormalization.enabled\"', ',', '\"MetadataService\",'], ['\"ldc.metadata.commit_with_flush\"', ',', '\"MetadataService\",'], ['\"ldc.metadata.commit_with_searcher\"', ',', '\"MetadataService\",'], ['\"ldc.metadata.commit_with_soft_commit\"', ',', '\"MetadataService\",'], ['\"ldc.metadata.close_wait_time\"', ',', '\"MetadataService\",'], ['\"ldc.metadata.solrupdate.batchsize\"', ',', '\"MetadataService\",'], ['\"ldc.metadata.solrquery.batchsize\"', ',', '\"MetadataService\",'], ['\"ldc.metadata.solrsearch.fetchsize\"', ',', '\"MetadataService\",'], ['\"ldc.metadata.solrquery.debug\"', ',', '\"MetadataService\",'], ['\"ldc.metadata.solrquery.usepost\"', ',', '\"MetadataService\",'], ['\"ldc.metadata.query.max_doc_count\"', ',', '\"MetadataService\",'], ['\"ldc.metadata.query.max_tag_count\"', ',', '\"MetadataService\",'], ['\"ldc.metadata.query.max_tag_count_exceeded_strategy\"', ',', '\"MetadataService\",'], ['\"ldc.metadata.search.resources.maxresultsize\"', ',', '\"MetadataService\",'], ['\"ldc.metadata.search.resourcefields.maxresultsize\"', ',', '\"MetadataService\",'], ['\"ldc.metadata.search.operations.maxresultsize\"', ',', '\"MetadataService\",'], ['\"ldc.metadata.search.activities.maxresultsize\"', ',', '\"MetadataService\",'], ['\"ldc.metadata.search.permissionchecks.enabled\"', ',', '\"MetadataService\",'], ['\"ldc.metadata.search.maxkeyfiltercount\"', ',', '\"MetadataService\",'], ['\"ldc.metadata.query.max_facet_category_count\"', ',', '\"MetadataService\",'], ['\"ldc.metadata.luceneindex.MaxThreadStates\"', ',', '\"MetadataService\",'], ['\"ldc.metadata.luceneindex.RAMBufferSizeMB\"', ',', '\"MetadataService\",'], ['\"ldc.metadata.luceneindex.WriteLockoutTimeInMS\"', ',', '\"MetadataService\",'], ['\"ldc.metadata.solr.kerberosEnabled\"', ',', '\"MetadataService\",'], ['\"ldc.metadata.hdfs.MetadataServiceHdfsPath\"', ',', '\"MetadataService\",'], ['\"ldc.metadata.hdfspartitioned.IsLocalFS\"', ',', '\"MetadataService\",'], ['\"ldc.metadata.lpupdate.batchsize\"', ',', '\"MetadataService\",']]\n"
     ]
    }
   ],
   "source": [
    "word = []\n",
    "num = []\n",
    "new_num=[]\n",
    "count=0\n",
    "add = [0,1,2]\n",
    "file4 = open('/Users/Nishi/Downloads/revised.txt','r+')\n",
    "file5 = open('/Users/Nishi/Downloads/final.txt','w')\n",
    "for line in file4:\n",
    "        word.append(line.partition(\"', ',', '\")[-1].split()[0])\n",
    "\n",
    "for i in range(0,len(word)-1):\n",
    "    count = count+1\n",
    "    if word[i] != word[i+1]:\n",
    "        num.append(i) \n",
    "        new_num.append(count)\n",
    "        count=0\n",
    "        \n",
    "print(num)\n",
    "for i in range(0,len(num)):\n",
    "    num[i] = num[i] +add[i]\n",
    "    str1 = \"############## COUNT: \" + str(new_num[i])\n",
    "    lines.insert(num[i]+1,str1 )\n",
    "for item in lines:\n",
    "                file5.write(\"%s\\n\" % item)  \n",
    "print(lines)    \n"
   ]
  },
  {
   "cell_type": "code",
   "execution_count": 192,
   "metadata": {},
   "outputs": [],
   "source": [
    "import json"
   ]
  },
  {
   "cell_type": "code",
   "execution_count": 199,
   "metadata": {},
   "outputs": [
    {
     "name": "stdout",
     "output_type": "stream",
     "text": [
      "ldc.metadata.servicetype , MetadataService\n",
      "ldc.metadata.servicemode , MetadataService\n",
      "ldc.metadata.solr.usezk , MetadataService\n",
      "ldc.metadata.solr.zk.connection.string , MetadataService\n",
      "ldc.metadata.solrserver.url , MetadataService\n",
      "ldc.metadata.solrserver.collection , MetadataService\n",
      "ldc.metadata.referencechecks.enabled , MetadataService\n",
      "ldc.metadata.resourcepartitionsplit.enabled , MetadataService\n",
      "ldc.job.locking.enabled , DISCOVERY\n",
      "ldc.job.locking.zk.connection.string , DISCOVERY\n",
      "ldc.metadata.resourceuniquechecks.enabled , MetadataService\n",
      "ldc.discovery.virtual_datasets.enabled , DISCOVERY\n",
      "ldc.metadata.searchableproperties.for.data_source , MetadataService\n",
      "ldc.metadata.searchableproperties.for.data_resource , MetadataService\n",
      "ldc.metadata.searchableproperties.for.resource_field , MetadataService\n",
      "ldc.metadata.searchableproperties.for.audit_event , MetadataService\n",
      "ldc.metadata.searchableproperties.for.tag_domain , MetadataService\n",
      "ldc.metadata.searchableproperties.for.tag , MetadataService\n",
      "ldc.metadata.searchableproperties.for.operation , MetadataService\n",
      "ldc.metadata.searchableproperties.for.operation_execution , MetadataService\n",
      "ldc.metadata.searchableproperties.for.external_source , MetadataService\n",
      "ldc.metadata.resourcenormalization.enabled , MetadataService\n",
      "ldc.metadata.commit_with_flush , MetadataService\n",
      "ldc.metadata.commit_with_searcher , MetadataService\n",
      "ldc.metadata.commit_with_soft_commit , MetadataService\n",
      "ldc.metadata.close_wait_time , MetadataService\n",
      "ldc.metadata.solrupdate.batchsize , MetadataService\n",
      "ldc.metadata.solrquery.batchsize , MetadataService\n",
      "ldc.metadata.solrsearch.fetchsize , MetadataService\n",
      "ldc.metadata.solrquery.debug , MetadataService\n",
      "ldc.metadata.solrquery.usepost , MetadataService\n",
      "ldc.metadata.query.max_doc_count , MetadataService\n",
      "ldc.metadata.query.max_tag_count , MetadataService\n",
      "ldc.metadata.query.max_tag_count_exceeded_strategy , MetadataService\n",
      "ldc.metadata.search.resources.maxresultsize , MetadataService\n",
      "ldc.metadata.search.resourcefields.maxresultsize , MetadataService\n",
      "ldc.metadata.search.operations.maxresultsize , MetadataService\n",
      "ldc.metadata.search.activities.maxresultsize , MetadataService\n",
      "ldc.metadata.search.permissionchecks.enabled , MetadataService\n",
      "ldc.metadata.search.maxkeyfiltercount , MetadataService\n",
      "ldc.metadata.query.max_facet_category_count , MetadataService\n",
      "ldc.metadata.luceneindex.MaxThreadStates , MetadataService\n",
      "ldc.metadata.luceneindex.RAMBufferSizeMB , MetadataService\n",
      "ldc.metadata.luceneindex.WriteLockoutTimeInMS , MetadataService\n",
      "ldc.metadata.solr.kerberosEnabled , MetadataService\n",
      "ldc.metadata.hdfs.MetadataServiceHdfsPath , MetadataService\n",
      "ldc.metadata.hdfspartitioned.IsLocalFS , MetadataService\n",
      "ldc.temproot , MISC\n",
      "ldc.discovery.profile.tipping_point , DISCOVERY_PROFILER\n",
      "ldc.profile.locales.calendar , DISCOVERY_PROFILER\n",
      "ldc.profile.datetime.formats , DISCOVERY_PROFILER\n",
      "ldc.profile.locales.numeric , DISCOVERY_PROFILER\n",
      "ldc.discovery.profile.token.max2accumulate , DISCOVERY_PROFILER\n",
      "ldc.discovery.profile.multi_token_validity , DISCOVERY_PROFILER\n",
      "ldc.discovery.profile.length.capacity , DISCOVERY_PROFILER\n",
      "ldc.discovery.profile.pattern.capacity , DISCOVERY_PROFILER\n",
      "ldc.discovery.profile.token.capacity , DISCOVERY_PROFILER\n",
      "ldc.discovery.profile.overflow.factor , DISCOVERY_PROFILER\n",
      "ldc.discovery.profile.cardinality.low , DISCOVERY_PROFILER\n",
      "ldc.discovery.profile.bloomfilter.false_positive_treshold , DISCOVERY_PROFILER\n",
      "ldc.discovery.profile.bloomfilter.number_of_elements , DISCOVERY_PROFILER\n",
      "ldc.profile.cardinality_precision , DISCOVERY_PROFILER\n",
      "ldc.discovery.profile.cardinality_sparse_precision , DISCOVERY_PROFILER\n",
      "ldc.discovery.profile.double_rounding , DISCOVERY_PROFILER\n",
      "ldc.discovery.classification.accuracy , DISCOVERY_PROFILER\n",
      "ldc.discovery.classification.anoymous_string_max_char , DISCOVERY_PROFILER\n",
      "ldc.discovery.classification.anonymous_number_max_digit , DISCOVERY_PROFILER\n",
      "ldc.deletetempfiles , MISC\n",
      "ldc.discovery.tags.null_values , DISCOVERY\n",
      "ldc.discovery.tag.name_matching_separators , DISCOVERY\n",
      "ldc.discovery.tag.min.alpha_pattern_lenght , DISCOVERY\n",
      "ldc.discovery.tag.min.numeric_pattern_lenght , DISCOVERY\n",
      "ldc.discovery.tag.min_cardinality.partial_match , DISCOVERY\n",
      "ldc.discovery.tag.min_cardinality.tokens_overlap , DISCOVERY\n",
      "ldc.discovery.tag.tolerance.normal , DISCOVERY\n",
      "ldc.discovery.tag.tolerance.high , DISCOVERY\n",
      "ldc.discovery.tag.tolerance.low , DISCOVERY\n",
      "ldc.metadata.hdfs.large_properties.uri , MISC\n",
      "ldc.metadata.hdfs.large_properties.path , MISC\n",
      "ldc.discovery.tolerance.double , DISCOVERY\n",
      "ldc.discovery.tags.tolerance.name_match , DISCOVERY\n",
      "ldc.discovery.tags.tolerance.name_match_pre_defined , DISCOVERY\n",
      "ldc.discovery.tags.name_match_reg_ex , DISCOVERY\n",
      "ldc.discovery.tag.min.pattern_overlap , DISCOVERY\n",
      "ldc.discovery.tag.tolerance.std_deviation , DISCOVERY\n",
      "ldc.discovery.tag.quantiles.count , DISCOVERY\n",
      "ldc.discovery.tag.quantiles.compression , DISCOVERY\n",
      "ldc.discovery.tag.learning.speed.metadata , DISCOVERY\n",
      "ldc.discovery.tag.learning.speed.data , DISCOVERY\n",
      "ldc.discovery.tag.quantiles.tolerance , DISCOVERY\n",
      "ldc.discovery.tag.rejection.low_cardinalty , DISCOVERY\n",
      "ldc.discovery.lineage.batch_window_hours , DISCOVERY\n",
      "ldc.discovery.lineage.cardinality_difference , DISCOVERY\n",
      "ldc.discovery.lineage.diff_same_directory_sec , DISCOVERY\n",
      "ldc.discovery.lineage.field_name_match , DISCOVERY\n",
      "ldc.discovery.lineage.min_lineage_field_count , DISCOVERY\n",
      "ldc.discovery.lineage.min_lineage_percent_field_count , DISCOVERY\n",
      "ldc.discovery.lineage.min_max_cardinality , DISCOVERY\n",
      "ldc.discovery.lineage.overlap , DISCOVERY\n",
      "ldc.discovery.lineage.selectivity_difference , DISCOVERY\n",
      "ldc.discovery.lineage.use_access_time_filter , DISCOVERY\n",
      "ldc.discovery.lineage.same_schema , DISCOVERY\n",
      "ldc.discovery.lineage.same_schema.non_matching , DISCOVERY\n",
      "ldc.discovery.lineage.same_schema.min2check , DISCOVERY\n",
      "ldc.metadata.lpupdate.batchsize , MetadataService\n",
      "ldc.disocvery.framework.left.batchsize , DISCOVERY\n",
      "ldc.disocvery.framework.right.batchsize , DISCOVERY\n",
      "ldc.discovery.profile.cardinality.max , DISCOVERY_PROFILER\n",
      "ldc.discovery.profile.topk.max , DISCOVERY_PROFILER\n",
      "ldc.profile.resource.numdateformats , MISC\n",
      "ldc.discovery.datetime.maxlength , DISCOVERY_PROFILER\n"
     ]
    }
   ],
   "source": [
    "f = open('/Users/Nishi/Downloads/configuration.json','r')\n",
    "data = json.load(f)\n",
    "\n",
    "for i in data:\n",
    "    s1 = str(i)\n",
    "    s2 = str((data[s1] ['category']))\n",
    "    print(s1+\" , \"+s2)\n"
   ]
  },
  {
   "cell_type": "code",
   "execution_count": null,
   "metadata": {},
   "outputs": [],
   "source": []
  },
  {
   "cell_type": "code",
   "execution_count": null,
   "metadata": {},
   "outputs": [],
   "source": []
  },
  {
   "cell_type": "code",
   "execution_count": null,
   "metadata": {},
   "outputs": [],
   "source": []
  },
  {
   "cell_type": "code",
   "execution_count": null,
   "metadata": {},
   "outputs": [],
   "source": []
  }
 ],
 "metadata": {
  "kernelspec": {
   "display_name": "Python 3",
   "language": "python",
   "name": "python3"
  },
  "language_info": {
   "codemirror_mode": {
    "name": "ipython",
    "version": 3
   },
   "file_extension": ".py",
   "mimetype": "text/x-python",
   "name": "python",
   "nbconvert_exporter": "python",
   "pygments_lexer": "ipython3",
   "version": "3.7.3"
  }
 },
 "nbformat": 4,
 "nbformat_minor": 2
}
