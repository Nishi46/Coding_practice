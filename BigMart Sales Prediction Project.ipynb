{
 "cells": [
  {
   "cell_type": "code",
   "execution_count": 38,
   "metadata": {},
   "outputs": [
    {
     "name": "stdout",
     "output_type": "stream",
     "text": [
      "<class 'pandas.core.frame.DataFrame'>\n",
      "RangeIndex: 8523 entries, 0 to 8522\n",
      "Data columns (total 12 columns):\n",
      " #   Column                     Non-Null Count  Dtype  \n",
      "---  ------                     --------------  -----  \n",
      " 0   Item_Identifier            8523 non-null   object \n",
      " 1   Item_Weight                7060 non-null   float64\n",
      " 2   Item_Fat_Content           8523 non-null   object \n",
      " 3   Item_Visibility            8523 non-null   float64\n",
      " 4   Item_Type                  8523 non-null   int64  \n",
      " 5   Item_MRP                   8523 non-null   float64\n",
      " 6   Outlet_Identifier          8523 non-null   object \n",
      " 7   Outlet_Establishment_Year  8523 non-null   int64  \n",
      " 8   Outlet_Size                8523 non-null   int64  \n",
      " 9   Outlet_Location_Type       8523 non-null   int64  \n",
      " 10  Outlet_Type                8523 non-null   int64  \n",
      " 11  Item_Outlet_Sales          8523 non-null   float64\n",
      "dtypes: float64(4), int64(5), object(3)\n",
      "memory usage: 799.2+ KB\n"
     ]
    },
    {
     "data": {
      "text/html": [
       "<div>\n",
       "<style scoped>\n",
       "    .dataframe tbody tr th:only-of-type {\n",
       "        vertical-align: middle;\n",
       "    }\n",
       "\n",
       "    .dataframe tbody tr th {\n",
       "        vertical-align: top;\n",
       "    }\n",
       "\n",
       "    .dataframe thead th {\n",
       "        text-align: right;\n",
       "    }\n",
       "</style>\n",
       "<table border=\"1\" class=\"dataframe\">\n",
       "  <thead>\n",
       "    <tr style=\"text-align: right;\">\n",
       "      <th></th>\n",
       "      <th>Item_Weight</th>\n",
       "      <th>Item_Visibility</th>\n",
       "      <th>Item_Type</th>\n",
       "      <th>Item_MRP</th>\n",
       "      <th>Outlet_Establishment_Year</th>\n",
       "      <th>Outlet_Size</th>\n",
       "      <th>Outlet_Location_Type</th>\n",
       "      <th>Outlet_Type</th>\n",
       "      <th>Item_Outlet_Sales</th>\n",
       "    </tr>\n",
       "  </thead>\n",
       "  <tbody>\n",
       "    <tr>\n",
       "      <th>count</th>\n",
       "      <td>7060.000000</td>\n",
       "      <td>8523.000000</td>\n",
       "      <td>8523.000000</td>\n",
       "      <td>8523.000000</td>\n",
       "      <td>8523.000000</td>\n",
       "      <td>8523.000000</td>\n",
       "      <td>8523.000000</td>\n",
       "      <td>8523.000000</td>\n",
       "      <td>8523.000000</td>\n",
       "    </tr>\n",
       "    <tr>\n",
       "      <th>mean</th>\n",
       "      <td>12.857645</td>\n",
       "      <td>0.066132</td>\n",
       "      <td>780.170949</td>\n",
       "      <td>140.992782</td>\n",
       "      <td>1997.831867</td>\n",
       "      <td>1.342016</td>\n",
       "      <td>1.046580</td>\n",
       "      <td>0.692127</td>\n",
       "      <td>2181.288914</td>\n",
       "    </tr>\n",
       "    <tr>\n",
       "      <th>std</th>\n",
       "      <td>4.643456</td>\n",
       "      <td>0.051598</td>\n",
       "      <td>341.615588</td>\n",
       "      <td>62.275067</td>\n",
       "      <td>8.371760</td>\n",
       "      <td>1.200408</td>\n",
       "      <td>0.777719</td>\n",
       "      <td>1.060931</td>\n",
       "      <td>1706.499616</td>\n",
       "    </tr>\n",
       "    <tr>\n",
       "      <th>min</th>\n",
       "      <td>4.555000</td>\n",
       "      <td>0.000000</td>\n",
       "      <td>64.000000</td>\n",
       "      <td>31.290000</td>\n",
       "      <td>1985.000000</td>\n",
       "      <td>0.000000</td>\n",
       "      <td>0.000000</td>\n",
       "      <td>0.000000</td>\n",
       "      <td>33.290000</td>\n",
       "    </tr>\n",
       "    <tr>\n",
       "      <th>25%</th>\n",
       "      <td>8.773750</td>\n",
       "      <td>0.026989</td>\n",
       "      <td>520.000000</td>\n",
       "      <td>93.826500</td>\n",
       "      <td>1987.000000</td>\n",
       "      <td>0.000000</td>\n",
       "      <td>0.000000</td>\n",
       "      <td>0.000000</td>\n",
       "      <td>834.247400</td>\n",
       "    </tr>\n",
       "    <tr>\n",
       "      <th>50%</th>\n",
       "      <td>12.600000</td>\n",
       "      <td>0.053931</td>\n",
       "      <td>682.000000</td>\n",
       "      <td>143.012800</td>\n",
       "      <td>1999.000000</td>\n",
       "      <td>1.000000</td>\n",
       "      <td>1.000000</td>\n",
       "      <td>0.000000</td>\n",
       "      <td>1794.331000</td>\n",
       "    </tr>\n",
       "    <tr>\n",
       "      <th>75%</th>\n",
       "      <td>16.850000</td>\n",
       "      <td>0.094585</td>\n",
       "      <td>1200.000000</td>\n",
       "      <td>185.643700</td>\n",
       "      <td>2004.000000</td>\n",
       "      <td>3.000000</td>\n",
       "      <td>2.000000</td>\n",
       "      <td>1.000000</td>\n",
       "      <td>3101.296400</td>\n",
       "    </tr>\n",
       "    <tr>\n",
       "      <th>max</th>\n",
       "      <td>21.350000</td>\n",
       "      <td>0.328391</td>\n",
       "      <td>1232.000000</td>\n",
       "      <td>266.888400</td>\n",
       "      <td>2009.000000</td>\n",
       "      <td>3.000000</td>\n",
       "      <td>2.000000</td>\n",
       "      <td>3.000000</td>\n",
       "      <td>13086.964800</td>\n",
       "    </tr>\n",
       "  </tbody>\n",
       "</table>\n",
       "</div>"
      ],
      "text/plain": [
       "       Item_Weight  Item_Visibility    Item_Type     Item_MRP  \\\n",
       "count  7060.000000      8523.000000  8523.000000  8523.000000   \n",
       "mean     12.857645         0.066132   780.170949   140.992782   \n",
       "std       4.643456         0.051598   341.615588    62.275067   \n",
       "min       4.555000         0.000000    64.000000    31.290000   \n",
       "25%       8.773750         0.026989   520.000000    93.826500   \n",
       "50%      12.600000         0.053931   682.000000   143.012800   \n",
       "75%      16.850000         0.094585  1200.000000   185.643700   \n",
       "max      21.350000         0.328391  1232.000000   266.888400   \n",
       "\n",
       "       Outlet_Establishment_Year  Outlet_Size  Outlet_Location_Type  \\\n",
       "count                8523.000000  8523.000000           8523.000000   \n",
       "mean                 1997.831867     1.342016              1.046580   \n",
       "std                     8.371760     1.200408              0.777719   \n",
       "min                  1985.000000     0.000000              0.000000   \n",
       "25%                  1987.000000     0.000000              0.000000   \n",
       "50%                  1999.000000     1.000000              1.000000   \n",
       "75%                  2004.000000     3.000000              2.000000   \n",
       "max                  2009.000000     3.000000              2.000000   \n",
       "\n",
       "       Outlet_Type  Item_Outlet_Sales  \n",
       "count  8523.000000        8523.000000  \n",
       "mean      0.692127        2181.288914  \n",
       "std       1.060931        1706.499616  \n",
       "min       0.000000          33.290000  \n",
       "25%       0.000000         834.247400  \n",
       "50%       0.000000        1794.331000  \n",
       "75%       1.000000        3101.296400  \n",
       "max       3.000000       13086.964800  "
      ]
     },
     "execution_count": 38,
     "metadata": {},
     "output_type": "execute_result"
    }
   ],
   "source": [
    "#Necessary Libraries\n",
    "import numpy as np\n",
    "import pandas as pd\n",
    "import matplotlib.pyplot as plt\n",
    "import seaborn as sns\n",
    "from statsmodels import api as sm\n",
    "\n",
    "#Necessary Methods\n",
    "from sklearn.preprocessing import PowerTransformer\n",
    "from sklearn.model_selection import train_test_split,KFold\n",
    "from sklearn.metrics import mean_squared_error\n",
    "from sklearn.pipeline import make_pipeline\n",
    "\n",
    "# Model Imports\n",
    "from sklearn.linear_model import LinearRegression,Ridge,Lasso,ElasticNet,Lars,LassoLars,OrthogonalMatchingPursuit,BayesianRidge,SGDRegressor,PassiveAggressiveRegressor\n",
    "from sklearn.svm import SVR,NuSVR,LinearSVR\n",
    "from sklearn.neighbors import KNeighborsRegressor,RadiusNeighborsRegressor\n",
    "from sklearn.gaussian_process import GaussianProcessRegressor\n",
    "from sklearn.tree import DecisionTreeRegressor\n",
    "from sklearn.ensemble import RandomForestRegressor,AdaBoostRegressor,GradientBoostingRegressor\n",
    "from pingouin import kruskal\n",
    "\n",
    "df = pd.read_csv(\"/Users/nishi/Downloads/archive/train.csv\")\n",
    "test = pd.read_csv(\"/Users/nishi/Downloads/archive/test.csv\")\n",
    "\n",
    "train.head()\n",
    "train.info()\n",
    "train.describe()"
   ]
  },
  {
   "cell_type": "markdown",
   "metadata": {},
   "source": [
    "Exploratory Data Analysis : get some insight and find any irregularities\n"
   ]
  },
  {
   "cell_type": "code",
   "execution_count": 6,
   "metadata": {},
   "outputs": [
    {
     "name": "stdout",
     "output_type": "stream",
     "text": [
      "There are 6964 duplicate IDs for 8523 total entries\n"
     ]
    }
   ],
   "source": [
    "#check for duplicates\n",
    "idstotal = train.shape[0]\n",
    "idsdupli = train[train['Item_Identifier'].duplicated()]\n",
    "\n",
    "print(f'There are {len(idsdupli)} duplicate IDs for {idstotal} total entries')"
   ]
  },
  {
   "cell_type": "markdown",
   "metadata": {},
   "source": [
    "Univariate Analysis"
   ]
  },
  {
   "cell_type": "code",
   "execution_count": 7,
   "metadata": {},
   "outputs": [
    {
     "data": {
      "text/plain": [
       "Text(0.5, 1.0, 'Item_Outlet_Sales Distribution')"
      ]
     },
     "execution_count": 7,
     "metadata": {},
     "output_type": "execute_result"
    },
    {
     "data": {
      "image/png": "[encoded data removed]",
      "text/plain": [
       "<Figure size 864x504 with 1 Axes>"
      ]
     },
     "metadata": {
      "needs_background": "light"
     },
     "output_type": "display_data"
    }
   ],
   "source": [
    "plt.figure(figsize=(12,7))\n",
    "sns.distplot(train.Item_Outlet_Sales, bins = 25)\n",
    "plt.xlabel(\"Item_Outlet_Sales\")\n",
    "plt.ylabel(\"Number of Sales\")\n",
    "plt.title(\"Item_Outlet_Sales Distribution\")\n"
   ]
  },
  {
   "cell_type": "code",
   "execution_count": 8,
   "metadata": {},
   "outputs": [
    {
     "name": "stdout",
     "output_type": "stream",
     "text": [
      "Skew is: 1.1775306028542798\n",
      "Kurtosis: 1.615877\n"
     ]
    }
   ],
   "source": [
    "print (\"Skew is:\", train.Item_Outlet_Sales.skew())\n",
    "print(\"Kurtosis: %f\" % train.Item_Outlet_Sales.kurt())"
   ]
  },
  {
   "cell_type": "markdown",
   "metadata": {},
   "source": [
    "Numerical preditors : consider all of the dependent variables"
   ]
  },
  {
   "cell_type": "code",
   "execution_count": 9,
   "metadata": {},
   "outputs": [
    {
     "data": {
      "text/plain": [
       "Item_Weight                  float64\n",
       "Item_Visibility              float64\n",
       "Item_MRP                     float64\n",
       "Outlet_Establishment_Year      int64\n",
       "Item_Outlet_Sales            float64\n",
       "dtype: object"
      ]
     },
     "execution_count": 9,
     "metadata": {},
     "output_type": "execute_result"
    }
   ],
   "source": [
    "num_features = train.select_dtypes(include=[np.number])\n",
    "num_features.dtypes"
   ]
  },
  {
   "cell_type": "code",
   "execution_count": 10,
   "metadata": {},
   "outputs": [
    {
     "data": {
      "text/html": [
       "<div>\n",
       "<style scoped>\n",
       "    .dataframe tbody tr th:only-of-type {\n",
       "        vertical-align: middle;\n",
       "    }\n",
       "\n",
       "    .dataframe tbody tr th {\n",
       "        vertical-align: top;\n",
       "    }\n",
       "\n",
       "    .dataframe thead th {\n",
       "        text-align: right;\n",
       "    }\n",
       "</style>\n",
       "<table border=\"1\" class=\"dataframe\">\n",
       "  <thead>\n",
       "    <tr style=\"text-align: right;\">\n",
       "      <th></th>\n",
       "      <th>Item_Weight</th>\n",
       "      <th>Item_Visibility</th>\n",
       "      <th>Item_MRP</th>\n",
       "      <th>Outlet_Establishment_Year</th>\n",
       "      <th>Item_Outlet_Sales</th>\n",
       "    </tr>\n",
       "  </thead>\n",
       "  <tbody>\n",
       "    <tr>\n",
       "      <th>Item_Weight</th>\n",
       "      <td>1.000000</td>\n",
       "      <td>-0.014048</td>\n",
       "      <td>0.027141</td>\n",
       "      <td>-0.011588</td>\n",
       "      <td>0.014123</td>\n",
       "    </tr>\n",
       "    <tr>\n",
       "      <th>Item_Visibility</th>\n",
       "      <td>-0.014048</td>\n",
       "      <td>1.000000</td>\n",
       "      <td>-0.001315</td>\n",
       "      <td>-0.074834</td>\n",
       "      <td>-0.128625</td>\n",
       "    </tr>\n",
       "    <tr>\n",
       "      <th>Item_MRP</th>\n",
       "      <td>0.027141</td>\n",
       "      <td>-0.001315</td>\n",
       "      <td>1.000000</td>\n",
       "      <td>0.005020</td>\n",
       "      <td>0.567574</td>\n",
       "    </tr>\n",
       "    <tr>\n",
       "      <th>Outlet_Establishment_Year</th>\n",
       "      <td>-0.011588</td>\n",
       "      <td>-0.074834</td>\n",
       "      <td>0.005020</td>\n",
       "      <td>1.000000</td>\n",
       "      <td>-0.049135</td>\n",
       "    </tr>\n",
       "    <tr>\n",
       "      <th>Item_Outlet_Sales</th>\n",
       "      <td>0.014123</td>\n",
       "      <td>-0.128625</td>\n",
       "      <td>0.567574</td>\n",
       "      <td>-0.049135</td>\n",
       "      <td>1.000000</td>\n",
       "    </tr>\n",
       "  </tbody>\n",
       "</table>\n",
       "</div>"
      ],
      "text/plain": [
       "                           Item_Weight  Item_Visibility  Item_MRP  \\\n",
       "Item_Weight                   1.000000        -0.014048  0.027141   \n",
       "Item_Visibility              -0.014048         1.000000 -0.001315   \n",
       "Item_MRP                      0.027141        -0.001315  1.000000   \n",
       "Outlet_Establishment_Year    -0.011588        -0.074834  0.005020   \n",
       "Item_Outlet_Sales             0.014123        -0.128625  0.567574   \n",
       "\n",
       "                           Outlet_Establishment_Year  Item_Outlet_Sales  \n",
       "Item_Weight                                -0.011588           0.014123  \n",
       "Item_Visibility                            -0.074834          -0.128625  \n",
       "Item_MRP                                    0.005020           0.567574  \n",
       "Outlet_Establishment_Year                   1.000000          -0.049135  \n",
       "Item_Outlet_Sales                          -0.049135           1.000000  "
      ]
     },
     "execution_count": 10,
     "metadata": {},
     "output_type": "execute_result"
    }
   ],
   "source": [
    "#check the correlation between our dependent variables and target variable\n",
    "corr = num_features.corr()\n",
    "corr"
   ]
  },
  {
   "cell_type": "code",
   "execution_count": 11,
   "metadata": {},
   "outputs": [
    {
     "data": {
      "text/plain": [
       "Item_Outlet_Sales            1.000000\n",
       "Item_MRP                     0.567574\n",
       "Item_Weight                  0.014123\n",
       "Outlet_Establishment_Year   -0.049135\n",
       "Item_Visibility             -0.128625\n",
       "Name: Item_Outlet_Sales, dtype: float64"
      ]
     },
     "execution_count": 11,
     "metadata": {},
     "output_type": "execute_result"
    }
   ],
   "source": [
    "corr['Item_Outlet_Sales'].sort_values(ascending=False)"
   ]
  },
  {
   "cell_type": "markdown",
   "metadata": {},
   "source": [
    "Categorical Variables"
   ]
  },
  {
   "cell_type": "code",
   "execution_count": 17,
   "metadata": {},
   "outputs": [
    {
     "name": "stdout",
     "output_type": "stream",
     "text": [
      "Item_Fat_Content : 5\n",
      "Item_Type : 16\n",
      "Outlet_Size : 4\n",
      "Outlet_Location_Type : 3\n",
      "Outlet_Type : 4\n"
     ]
    }
   ],
   "source": [
    "# Handling categorical feature\n",
    "df_cat=train[['Item_Fat_Content','Item_Type','Outlet_Size','Outlet_Location_Type','Outlet_Type']]\n",
    "df_cat.head()\n",
    "# Checking the length of unique values in feature\n",
    "for feature in df_cat:\n",
    "    print(feature,':',len(df_cat[feature].unique()))"
   ]
  },
  {
   "cell_type": "code",
   "execution_count": 19,
   "metadata": {},
   "outputs": [
    {
     "data": {
      "text/plain": [
       "array(['Low Fat', 'Regular', 'low fat', 'LF', 'reg'], dtype=object)"
      ]
     },
     "execution_count": 19,
     "metadata": {},
     "output_type": "execute_result"
    }
   ],
   "source": [
    "train.Item_Fat_Content.unique()"
   ]
  },
  {
   "cell_type": "code",
   "execution_count": 20,
   "metadata": {},
   "outputs": [
    {
     "data": {
      "text/plain": [
       "{'Medium': 0, nan: 1, 'High': 2, 'Small': 3}"
      ]
     },
     "execution_count": 20,
     "metadata": {},
     "output_type": "execute_result"
    }
   ],
   "source": [
    "df_1={i:k for k,i in enumerate(train.Outlet_Size.unique())}\n",
    "df_1"
   ]
  },
  {
   "cell_type": "code",
   "execution_count": 21,
   "metadata": {},
   "outputs": [],
   "source": [
    "train['Outlet_Size']=train['Outlet_Size'].map(df_1)"
   ]
  },
  {
   "cell_type": "code",
   "execution_count": 22,
   "metadata": {},
   "outputs": [
    {
     "data": {
      "text/plain": [
       "{'Tier 1': 0, 'Tier 3': 1, 'Tier 2': 2}"
      ]
     },
     "execution_count": 22,
     "metadata": {},
     "output_type": "execute_result"
    }
   ],
   "source": [
    "df_2={i:k for k,i in enumerate(train.Outlet_Location_Type.unique())}\n",
    "df_2"
   ]
  },
  {
   "cell_type": "code",
   "execution_count": 23,
   "metadata": {},
   "outputs": [
    {
     "data": {
      "text/plain": [
       "array(['Supermarket Type1', 'Supermarket Type2', 'Grocery Store',\n",
       "       'Supermarket Type3'], dtype=object)"
      ]
     },
     "execution_count": 23,
     "metadata": {},
     "output_type": "execute_result"
    }
   ],
   "source": [
    "train['Outlet_Location_Type']=train['Outlet_Location_Type'].map(df_2)\n",
    "train.Outlet_Type.unique()"
   ]
  },
  {
   "cell_type": "code",
   "execution_count": 24,
   "metadata": {},
   "outputs": [
    {
     "data": {
      "text/plain": [
       "{'Supermarket Type1': 0,\n",
       " 'Supermarket Type2': 1,\n",
       " 'Grocery Store': 2,\n",
       " 'Supermarket Type3': 3}"
      ]
     },
     "execution_count": 24,
     "metadata": {},
     "output_type": "execute_result"
    }
   ],
   "source": [
    "df_3={i:k for k,i in enumerate(train.Outlet_Type.unique())}\n",
    "df_3"
   ]
  },
  {
   "cell_type": "code",
   "execution_count": 25,
   "metadata": {},
   "outputs": [],
   "source": [
    "train.Outlet_Type=train.Outlet_Type.map(df_3)\n",
    "df_4=train.Item_Type.value_counts().to_dict()\n",
    "train['Item_Type']=train['Item_Type'].map(df_4)"
   ]
  },
  {
   "cell_type": "code",
   "execution_count": 27,
   "metadata": {},
   "outputs": [
    {
     "data": {
      "text/html": [
       "<div>\n",
       "<style scoped>\n",
       "    .dataframe tbody tr th:only-of-type {\n",
       "        vertical-align: middle;\n",
       "    }\n",
       "\n",
       "    .dataframe tbody tr th {\n",
       "        vertical-align: top;\n",
       "    }\n",
       "\n",
       "    .dataframe thead th {\n",
       "        text-align: right;\n",
       "    }\n",
       "</style>\n",
       "<table border=\"1\" class=\"dataframe\">\n",
       "  <thead>\n",
       "    <tr style=\"text-align: right;\">\n",
       "      <th></th>\n",
       "      <th>Item_Weight</th>\n",
       "      <th>Item_Fat_Content</th>\n",
       "      <th>Item_Visibility</th>\n",
       "      <th>Item_Type</th>\n",
       "      <th>Item_MRP</th>\n",
       "      <th>Outlet_Establishment_Year</th>\n",
       "      <th>Outlet_Size</th>\n",
       "      <th>Outlet_Location_Type</th>\n",
       "      <th>Outlet_Type</th>\n",
       "    </tr>\n",
       "  </thead>\n",
       "  <tbody>\n",
       "    <tr>\n",
       "      <th>0</th>\n",
       "      <td>9.30</td>\n",
       "      <td>Low Fat</td>\n",
       "      <td>0.016047</td>\n",
       "      <td>682</td>\n",
       "      <td>249.8092</td>\n",
       "      <td>1999</td>\n",
       "      <td>0</td>\n",
       "      <td>0</td>\n",
       "      <td>0</td>\n",
       "    </tr>\n",
       "    <tr>\n",
       "      <th>1</th>\n",
       "      <td>5.92</td>\n",
       "      <td>Regular</td>\n",
       "      <td>0.019278</td>\n",
       "      <td>445</td>\n",
       "      <td>48.2692</td>\n",
       "      <td>2009</td>\n",
       "      <td>0</td>\n",
       "      <td>1</td>\n",
       "      <td>1</td>\n",
       "    </tr>\n",
       "    <tr>\n",
       "      <th>2</th>\n",
       "      <td>17.50</td>\n",
       "      <td>Low Fat</td>\n",
       "      <td>0.016760</td>\n",
       "      <td>425</td>\n",
       "      <td>141.6180</td>\n",
       "      <td>1999</td>\n",
       "      <td>0</td>\n",
       "      <td>0</td>\n",
       "      <td>0</td>\n",
       "    </tr>\n",
       "    <tr>\n",
       "      <th>3</th>\n",
       "      <td>19.20</td>\n",
       "      <td>Regular</td>\n",
       "      <td>0.000000</td>\n",
       "      <td>1232</td>\n",
       "      <td>182.0950</td>\n",
       "      <td>1998</td>\n",
       "      <td>1</td>\n",
       "      <td>1</td>\n",
       "      <td>2</td>\n",
       "    </tr>\n",
       "    <tr>\n",
       "      <th>4</th>\n",
       "      <td>8.93</td>\n",
       "      <td>Low Fat</td>\n",
       "      <td>0.000000</td>\n",
       "      <td>910</td>\n",
       "      <td>53.8614</td>\n",
       "      <td>1987</td>\n",
       "      <td>2</td>\n",
       "      <td>1</td>\n",
       "      <td>0</td>\n",
       "    </tr>\n",
       "  </tbody>\n",
       "</table>\n",
       "</div>"
      ],
      "text/plain": [
       "   Item_Weight Item_Fat_Content  Item_Visibility  Item_Type  Item_MRP  \\\n",
       "0         9.30          Low Fat         0.016047        682  249.8092   \n",
       "1         5.92          Regular         0.019278        445   48.2692   \n",
       "2        17.50          Low Fat         0.016760        425  141.6180   \n",
       "3        19.20          Regular         0.000000       1232  182.0950   \n",
       "4         8.93          Low Fat         0.000000        910   53.8614   \n",
       "\n",
       "   Outlet_Establishment_Year  Outlet_Size  Outlet_Location_Type  Outlet_Type  \n",
       "0                       1999            0                     0            0  \n",
       "1                       2009            0                     1            1  \n",
       "2                       1999            0                     0            0  \n",
       "3                       1998            1                     1            2  \n",
       "4                       1987            2                     1            0  "
      ]
     },
     "execution_count": 27,
     "metadata": {},
     "output_type": "execute_result"
    }
   ],
   "source": [
    "X=train.drop(['Item_Identifier','Outlet_Identifier','Item_Outlet_Sales'],axis=1)\n",
    "X.head()"
   ]
  },
  {
   "cell_type": "code",
   "execution_count": 29,
   "metadata": {},
   "outputs": [
    {
     "data": {
      "text/html": [
       "<div>\n",
       "<style scoped>\n",
       "    .dataframe tbody tr th:only-of-type {\n",
       "        vertical-align: middle;\n",
       "    }\n",
       "\n",
       "    .dataframe tbody tr th {\n",
       "        vertical-align: top;\n",
       "    }\n",
       "\n",
       "    .dataframe thead th {\n",
       "        text-align: right;\n",
       "    }\n",
       "</style>\n",
       "<table border=\"1\" class=\"dataframe\">\n",
       "  <thead>\n",
       "    <tr style=\"text-align: right;\">\n",
       "      <th></th>\n",
       "      <th>Item_Outlet_Sales</th>\n",
       "    </tr>\n",
       "  </thead>\n",
       "  <tbody>\n",
       "    <tr>\n",
       "      <th>0</th>\n",
       "      <td>3735.1380</td>\n",
       "    </tr>\n",
       "    <tr>\n",
       "      <th>1</th>\n",
       "      <td>443.4228</td>\n",
       "    </tr>\n",
       "    <tr>\n",
       "      <th>2</th>\n",
       "      <td>2097.2700</td>\n",
       "    </tr>\n",
       "    <tr>\n",
       "      <th>3</th>\n",
       "      <td>732.3800</td>\n",
       "    </tr>\n",
       "    <tr>\n",
       "      <th>4</th>\n",
       "      <td>994.7052</td>\n",
       "    </tr>\n",
       "  </tbody>\n",
       "</table>\n",
       "</div>"
      ],
      "text/plain": [
       "   Item_Outlet_Sales\n",
       "0          3735.1380\n",
       "1           443.4228\n",
       "2          2097.2700\n",
       "3           732.3800\n",
       "4           994.7052"
      ]
     },
     "execution_count": 29,
     "metadata": {},
     "output_type": "execute_result"
    }
   ],
   "source": [
    "y=pd.DataFrame(train.iloc[:,-1])\n",
    "y.head()"
   ]
  },
  {
   "cell_type": "code",
   "execution_count": 39,
   "metadata": {},
   "outputs": [
    {
     "name": "stdout",
     "output_type": "stream",
     "text": [
      "Outlet_Establishment_Year : Outlet_Identifier\n",
      "OUT010    [1998]\n",
      "OUT013    [1987]\n",
      "OUT017    [2007]\n",
      "OUT018    [2009]\n",
      "OUT019    [1985]\n",
      "OUT027    [1985]\n",
      "OUT035    [2004]\n",
      "OUT045    [2002]\n",
      "OUT046    [1997]\n",
      "OUT049    [1999]\n",
      "Name: Outlet_Establishment_Year, dtype: object\n",
      "Outlet_Size : Outlet_Identifier\n",
      "OUT010       [nan]\n",
      "OUT013      [High]\n",
      "OUT017       [nan]\n",
      "OUT018    [Medium]\n",
      "OUT019     [Small]\n",
      "OUT027    [Medium]\n",
      "OUT035     [Small]\n",
      "OUT045       [nan]\n",
      "OUT046     [Small]\n",
      "OUT049    [Medium]\n",
      "Name: Outlet_Size, dtype: object\n",
      "Outlet_Location_Type : Outlet_Identifier\n",
      "OUT010    [Tier 3]\n",
      "OUT013    [Tier 3]\n",
      "OUT017    [Tier 2]\n",
      "OUT018    [Tier 3]\n",
      "OUT019    [Tier 1]\n",
      "OUT027    [Tier 3]\n",
      "OUT035    [Tier 2]\n",
      "OUT045    [Tier 2]\n",
      "OUT046    [Tier 1]\n",
      "OUT049    [Tier 1]\n",
      "Name: Outlet_Location_Type, dtype: object\n",
      "Outlet_Type : Outlet_Identifier\n",
      "OUT010        [Grocery Store]\n",
      "OUT013    [Supermarket Type1]\n",
      "OUT017    [Supermarket Type1]\n",
      "OUT018    [Supermarket Type2]\n",
      "OUT019        [Grocery Store]\n",
      "OUT027    [Supermarket Type3]\n",
      "OUT035    [Supermarket Type1]\n",
      "OUT045    [Supermarket Type1]\n",
      "OUT046    [Supermarket Type1]\n",
      "OUT049    [Supermarket Type1]\n",
      "Name: Outlet_Type, dtype: object\n"
     ]
    },
    {
     "data": {
      "text/html": [
       "<div>\n",
       "<style scoped>\n",
       "    .dataframe tbody tr th:only-of-type {\n",
       "        vertical-align: middle;\n",
       "    }\n",
       "\n",
       "    .dataframe tbody tr th {\n",
       "        vertical-align: top;\n",
       "    }\n",
       "\n",
       "    .dataframe thead th {\n",
       "        text-align: right;\n",
       "    }\n",
       "</style>\n",
       "<table border=\"1\" class=\"dataframe\">\n",
       "  <thead>\n",
       "    <tr style=\"text-align: right;\">\n",
       "      <th></th>\n",
       "      <th>Item_Weight</th>\n",
       "      <th>Item_Fat_Content</th>\n",
       "      <th>Item_Visibility</th>\n",
       "      <th>Item_Type</th>\n",
       "      <th>Item_MRP</th>\n",
       "      <th>Outlet_Identifier</th>\n",
       "      <th>Item_Outlet_Sales</th>\n",
       "    </tr>\n",
       "  </thead>\n",
       "  <tbody>\n",
       "    <tr>\n",
       "      <th>5</th>\n",
       "      <td>10.395000</td>\n",
       "      <td>Regular</td>\n",
       "      <td>0.000000</td>\n",
       "      <td>Baking Goods</td>\n",
       "      <td>51.4008</td>\n",
       "      <td>OUT018</td>\n",
       "      <td>556.6088</td>\n",
       "    </tr>\n",
       "    <tr>\n",
       "      <th>21</th>\n",
       "      <td>12.277108</td>\n",
       "      <td>Regular</td>\n",
       "      <td>0.035400</td>\n",
       "      <td>Baking Goods</td>\n",
       "      <td>144.5444</td>\n",
       "      <td>OUT027</td>\n",
       "      <td>4064.0432</td>\n",
       "    </tr>\n",
       "    <tr>\n",
       "      <th>23</th>\n",
       "      <td>12.277108</td>\n",
       "      <td>Low Fat</td>\n",
       "      <td>0.057557</td>\n",
       "      <td>Baking Goods</td>\n",
       "      <td>107.6938</td>\n",
       "      <td>OUT019</td>\n",
       "      <td>214.3876</td>\n",
       "    </tr>\n",
       "    <tr>\n",
       "      <th>48</th>\n",
       "      <td>15.850000</td>\n",
       "      <td>Regular</td>\n",
       "      <td>0.121633</td>\n",
       "      <td>Baking Goods</td>\n",
       "      <td>60.6220</td>\n",
       "      <td>OUT046</td>\n",
       "      <td>2576.6460</td>\n",
       "    </tr>\n",
       "    <tr>\n",
       "      <th>71</th>\n",
       "      <td>15.850000</td>\n",
       "      <td>Regular</td>\n",
       "      <td>0.121532</td>\n",
       "      <td>Baking Goods</td>\n",
       "      <td>59.2220</td>\n",
       "      <td>OUT013</td>\n",
       "      <td>599.2200</td>\n",
       "    </tr>\n",
       "    <tr>\n",
       "      <th>...</th>\n",
       "      <td>...</td>\n",
       "      <td>...</td>\n",
       "      <td>...</td>\n",
       "      <td>...</td>\n",
       "      <td>...</td>\n",
       "      <td>...</td>\n",
       "      <td>...</td>\n",
       "    </tr>\n",
       "    <tr>\n",
       "      <th>8360</th>\n",
       "      <td>11.500000</td>\n",
       "      <td>Low Fat</td>\n",
       "      <td>0.014884</td>\n",
       "      <td>Starchy Foods</td>\n",
       "      <td>174.5080</td>\n",
       "      <td>OUT049</td>\n",
       "      <td>3635.2680</td>\n",
       "    </tr>\n",
       "    <tr>\n",
       "      <th>8397</th>\n",
       "      <td>16.700000</td>\n",
       "      <td>Regular</td>\n",
       "      <td>0.054851</td>\n",
       "      <td>Starchy Foods</td>\n",
       "      <td>64.4168</td>\n",
       "      <td>OUT018</td>\n",
       "      <td>830.9184</td>\n",
       "    </tr>\n",
       "    <tr>\n",
       "      <th>8411</th>\n",
       "      <td>7.600000</td>\n",
       "      <td>Regular</td>\n",
       "      <td>0.142632</td>\n",
       "      <td>Starchy Foods</td>\n",
       "      <td>172.3448</td>\n",
       "      <td>OUT049</td>\n",
       "      <td>4431.5648</td>\n",
       "    </tr>\n",
       "    <tr>\n",
       "      <th>8426</th>\n",
       "      <td>7.435000</td>\n",
       "      <td>Low Fat</td>\n",
       "      <td>0.084436</td>\n",
       "      <td>Starchy Foods</td>\n",
       "      <td>168.6158</td>\n",
       "      <td>OUT035</td>\n",
       "      <td>4512.1266</td>\n",
       "    </tr>\n",
       "    <tr>\n",
       "      <th>8463</th>\n",
       "      <td>13.690731</td>\n",
       "      <td>Low Fat</td>\n",
       "      <td>0.043025</td>\n",
       "      <td>Starchy Foods</td>\n",
       "      <td>37.6164</td>\n",
       "      <td>OUT027</td>\n",
       "      <td>810.9444</td>\n",
       "    </tr>\n",
       "  </tbody>\n",
       "</table>\n",
       "<p>8523 rows × 7 columns</p>\n",
       "</div>"
      ],
      "text/plain": [
       "      Item_Weight Item_Fat_Content  Item_Visibility      Item_Type  Item_MRP  \\\n",
       "5       10.395000          Regular         0.000000   Baking Goods   51.4008   \n",
       "21      12.277108          Regular         0.035400   Baking Goods  144.5444   \n",
       "23      12.277108          Low Fat         0.057557   Baking Goods  107.6938   \n",
       "48      15.850000          Regular         0.121633   Baking Goods   60.6220   \n",
       "71      15.850000          Regular         0.121532   Baking Goods   59.2220   \n",
       "...           ...              ...              ...            ...       ...   \n",
       "8360    11.500000          Low Fat         0.014884  Starchy Foods  174.5080   \n",
       "8397    16.700000          Regular         0.054851  Starchy Foods   64.4168   \n",
       "8411     7.600000          Regular         0.142632  Starchy Foods  172.3448   \n",
       "8426     7.435000          Low Fat         0.084436  Starchy Foods  168.6158   \n",
       "8463    13.690731          Low Fat         0.043025  Starchy Foods   37.6164   \n",
       "\n",
       "     Outlet_Identifier  Item_Outlet_Sales  \n",
       "5               OUT018           556.6088  \n",
       "21              OUT027          4064.0432  \n",
       "23              OUT019           214.3876  \n",
       "48              OUT046          2576.6460  \n",
       "71              OUT013           599.2200  \n",
       "...                ...                ...  \n",
       "8360            OUT049          3635.2680  \n",
       "8397            OUT018           830.9184  \n",
       "8411            OUT049          4431.5648  \n",
       "8426            OUT035          4512.1266  \n",
       "8463            OUT027           810.9444  \n",
       "\n",
       "[8523 rows x 7 columns]"
      ]
     },
     "execution_count": 39,
     "metadata": {},
     "output_type": "execute_result"
    }
   ],
   "source": [
    "gb=df.groupby('Outlet_Identifier')\n",
    "for i in ['Outlet_Establishment_Year','Outlet_Size','Outlet_Location_Type','Outlet_Type']:\n",
    "  print(f\"{i} : {gb[i].unique()}\")\n",
    "\n",
    "df.drop(columns=['Outlet_Establishment_Year','Outlet_Size','Outlet_Location_Type','Outlet_Type','Item_Identifier'],inplace=True)\n",
    "df=df.groupby('Item_Type',group_keys=False).apply(lambda x:x.fillna(x.mean()))\n",
    "df\n"
   ]
  },
  {
   "cell_type": "code",
   "execution_count": null,
   "metadata": {},
   "outputs": [],
   "source": []
  }
 ],
 "metadata": {
  "kernelspec": {
   "display_name": "Python 3",
   "language": "python",
   "name": "python3"
  },
  "language_info": {
   "codemirror_mode": {
    "name": "ipython",
    "version": 3
   },
   "file_extension": ".py",
   "mimetype": "text/x-python",
   "name": "python",
   "nbconvert_exporter": "python",
   "pygments_lexer": "ipython3",
   "version": "3.7.3"
  }
 },
 "nbformat": 4,
 "nbformat_minor": 2
}
